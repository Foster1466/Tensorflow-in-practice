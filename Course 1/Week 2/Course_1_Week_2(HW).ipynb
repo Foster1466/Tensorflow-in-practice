{
  "nbformat": 4,
  "nbformat_minor": 0,
  "metadata": {
    "colab": {
      "name": "Course 1 Week 2(HW).ipynb",
      "provenance": []
    },
    "kernelspec": {
      "name": "python3",
      "display_name": "Python 3"
    }
  },
  "cells": [
    {
      "cell_type": "markdown",
      "metadata": {
        "id": "fnZTlk4XaJ9Y"
      },
      "source": [
        "## Exercise 2\r\n",
        "In the course you learned how to do classification using Fashion MNIST, a data set containing items of clothing. There's another, similar dataset called MNIST which has items of handwriting -- the digits 0 through 9.\r\n",
        "\r\n",
        "Write an MNIST classifier that trains to 99% accuracy or above, and does it without a fixed number of epochs -- i.e. you should stop training once you reach that level of accuracy.\r\n",
        "\r\n",
        "Some notes:\r\n",
        "1. It should succeed in less than 10 epochs, so it is okay to change epochs to 10, but nothing larger\r\n",
        "2. When it reaches 99% or greater it should print out the string \"Reached 99% accuracy so cancelling training!\"\r\n",
        "3. If you add any additional variables, make sure you use the same names as the ones used in the class\r\n",
        "\r\n",
        "I've started the code for you below -- how would you finish it? "
      ]
    },
    {
      "cell_type": "code",
      "metadata": {
        "colab": {
          "base_uri": "https://localhost:8080/"
        },
        "id": "YemtU6JlZabC",
        "outputId": "4973aaaa-ce92-4110-d016-6b8e4fd7cfec"
      },
      "source": [
        "import tensorflow as tf\r\n",
        "\r\n",
        "class CustomCallbacks(tf.keras.callbacks.Callback):\r\n",
        "    def on_epoch_end(self, epoch, logs={}):\r\n",
        "      if(logs.get('accuracy')>0.99):\r\n",
        "        print(\"\\n 99% acc reached\")\r\n",
        "        self.model.stop_training = True\r\n",
        "\r\n",
        "\r\n",
        "mnist = tf.keras.datasets.mnist\r\n",
        "\r\n",
        "(x_train, y_train),(x_test, y_test) = mnist.load_data()\r\n",
        "\r\n",
        "x_train = x_train / 255\r\n",
        "x_test = x_test / 255\r\n",
        "\r\n",
        "model = tf.keras.models.Sequential([\r\n",
        "    tf.keras.layers.Flatten(input_shape=(28,28)),\r\n",
        "    tf.keras.layers.Dense(units=256, activation=tf.nn.relu),\r\n",
        "    tf.keras.layers.Dense(units=128, activation=tf.nn.relu),\r\n",
        "    tf.keras.layers.Dense(units=10, activation=tf.nn.softmax)\r\n",
        "])\r\n",
        "\r\n",
        "model.compile(optimizer='adam',\r\n",
        "              loss='sparse_categorical_crossentropy',\r\n",
        "              metrics=['accuracy'])\r\n",
        "\r\n",
        "model.fit(\r\n",
        "    x_train,\r\n",
        "    y_train,\r\n",
        "    epochs=10,\r\n",
        "    callbacks=[CustomCallbacks()]\r\n",
        ")"
      ],
      "execution_count": null,
      "outputs": [
        {
          "output_type": "stream",
          "text": [
            "Epoch 1/10\n",
            "1875/1875 [==============================] - 6s 3ms/step - loss: 0.3654 - accuracy: 0.8926\n",
            "Epoch 2/10\n",
            "1875/1875 [==============================] - 6s 3ms/step - loss: 0.0845 - accuracy: 0.9738\n",
            "Epoch 3/10\n",
            "1875/1875 [==============================] - 6s 3ms/step - loss: 0.0557 - accuracy: 0.9827\n",
            "Epoch 4/10\n",
            "1875/1875 [==============================] - 6s 3ms/step - loss: 0.0419 - accuracy: 0.9864\n",
            "Epoch 5/10\n",
            "1855/1875 [============================>.] - ETA: 0s - loss: 0.0316 - accuracy: 0.9897"
          ],
          "name": "stdout"
        }
      ]
    }
  ]
}