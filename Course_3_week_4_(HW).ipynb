{
  "nbformat": 4,
  "nbformat_minor": 0,
  "metadata": {
    "colab": {
      "name": "Course 3 week 4 (HW).ipynb",
      "provenance": [],
      "authorship_tag": "ABX9TyNLVUYG1V9fP0G3dGBtrL+I",
      "include_colab_link": true
    },
    "kernelspec": {
      "name": "python3",
      "display_name": "Python 3"
    },
    "accelerator": "GPU"
  },
  "cells": [
    {
      "cell_type": "markdown",
      "metadata": {
        "id": "view-in-github",
        "colab_type": "text"
      },
      "source": [
        "<a href=\"https://colab.research.google.com/github/Foster1466/Tensorflow-in-practice/blob/master/Course_3_week_4_(HW).ipynb\" target=\"_parent\"><img src=\"https://colab.research.google.com/assets/colab-badge.svg\" alt=\"Open In Colab\"/></a>"
      ]
    },
    {
      "cell_type": "code",
      "metadata": {
        "id": "v4_lMq_gsiG6"
      },
      "source": [
        "from tensorflow.keras.preprocessing.sequence import pad_sequences\n",
        "from tensorflow.keras.layers import Embedding, Dense, LSTM, Bidirectional, Dropout\n",
        "from tensorflow.keras.preprocessing.text import Tokenizer\n",
        "from tensorflow.keras.models import Sequential\n",
        "from tensorflow.keras.optimizers import Adam\n",
        "from tensorflow.keras import regularizers\n",
        "import tensorflow.keras.utils as ku\n",
        "import numpy as np"
      ],
      "execution_count": 1,
      "outputs": []
    },
    {
      "cell_type": "code",
      "metadata": {
        "id": "aMqzopMWtWfk",
        "outputId": "6bcc9bb6-91f7-419f-c06c-77be7f00a332",
        "colab": {
          "base_uri": "https://localhost:8080/"
        }
      },
      "source": [
        "tokenizer= Tokenizer()\n",
        "!wget --no-check-certificate \\\n",
        "    https://storage.googleapis.com/laurencemoroney-blog.appspot.com/sonnets.txt \\\n",
        "    -O /tmp/sonnets.txt\n",
        "\n",
        "data= open('/tmp/sonnets.txt').read()\n",
        "\n",
        "corpus= data.lower().split('\\n')\n",
        "\n",
        "tokenizer.fit_on_texts(corpus)\n",
        "total_words= len(tokenizer.word_index) + 1\n",
        "\n",
        "input_sequences= []\n",
        "for line in corpus:\n",
        "  token_list= tokenizer.texts_to_sequences([line])[0]\n",
        "  for i in range(1, len(token_list)):\n",
        "    n_gram_sequence= token_list[:i+1]\n",
        "    input_sequences.append(n_gram_sequence)\n",
        "\n",
        "max_sequence_len= max([len(x) for x in input_sequences])\n",
        "input_sequences= np.array(pad_sequences(input_sequences, maxlen= max_sequence_len, padding='pre'))\n",
        "\n",
        "predictors, label= input_sequences[:,:-1], input_sequences[:,-1]\n",
        "label= ku.to_categorical(label, num_classes=total_words)\n",
        "\n",
        "print(len(input_sequences))"
      ],
      "execution_count": 2,
      "outputs": [
        {
          "output_type": "stream",
          "text": [
            "--2020-11-16 07:47:00--  https://storage.googleapis.com/laurencemoroney-blog.appspot.com/sonnets.txt\n",
            "Resolving storage.googleapis.com (storage.googleapis.com)... 74.125.195.128, 74.125.142.128, 74.125.20.128, ...\n",
            "Connecting to storage.googleapis.com (storage.googleapis.com)|74.125.195.128|:443... connected.\n",
            "HTTP request sent, awaiting response... 200 OK\n",
            "Length: 93578 (91K) [text/plain]\n",
            "Saving to: ‘/tmp/sonnets.txt’\n",
            "\n",
            "/tmp/sonnets.txt    100%[===================>]  91.38K  --.-KB/s    in 0.001s  \n",
            "\n",
            "2020-11-16 07:47:00 (105 MB/s) - ‘/tmp/sonnets.txt’ saved [93578/93578]\n",
            "\n",
            "15462\n"
          ],
          "name": "stdout"
        }
      ]
    },
    {
      "cell_type": "code",
      "metadata": {
        "id": "69PFjdHx5F5n",
        "outputId": "7e529e5f-63d3-4361-8c86-bca3e7fac314",
        "colab": {
          "base_uri": "https://localhost:8080/"
        }
      },
      "source": [
        "model= Sequential()\n",
        "model.add(Embedding(total_words, 100, input_length=max_sequence_len-1))\n",
        "model.add(Bidirectional(LSTM(150, return_sequences=True)))\n",
        "model.add(Dropout(0.2))\n",
        "model.add(Bidirectional(LSTM(150)))\n",
        "model.add(Dense(total_words/2, activation='relu', kernel_regularizer= regularizers.L2(0.01)))\n",
        "model.add(Dense(total_words, activation='softmax'))\n",
        "\n",
        "model.compile(optimizer= Adam(0.01), loss= 'categorical_crossentropy', metrics= ['accuracy'])\n",
        "\n",
        "\n",
        "(model.summary())"
      ],
      "execution_count": 3,
      "outputs": [
        {
          "output_type": "stream",
          "text": [
            "Model: \"sequential\"\n",
            "_________________________________________________________________\n",
            "Layer (type)                 Output Shape              Param #   \n",
            "=================================================================\n",
            "embedding (Embedding)        (None, 10, 100)           321100    \n",
            "_________________________________________________________________\n",
            "bidirectional (Bidirectional (None, 10, 300)           301200    \n",
            "_________________________________________________________________\n",
            "dropout (Dropout)            (None, 10, 300)           0         \n",
            "_________________________________________________________________\n",
            "bidirectional_1 (Bidirection (None, 300)               541200    \n",
            "_________________________________________________________________\n",
            "dense (Dense)                (None, 1605)              483105    \n",
            "_________________________________________________________________\n",
            "dense_1 (Dense)              (None, 3211)              5156866   \n",
            "=================================================================\n",
            "Total params: 6,803,471\n",
            "Trainable params: 6,803,471\n",
            "Non-trainable params: 0\n",
            "_________________________________________________________________\n"
          ],
          "name": "stdout"
        }
      ]
    },
    {
      "cell_type": "code",
      "metadata": {
        "id": "4Bv5Px4LAPWe",
        "outputId": "2a38ccd8-730b-469a-ec7b-b3744e9dd1dc",
        "colab": {
          "base_uri": "https://localhost:8080/"
        }
      },
      "source": [
        "history= model.fit(predictors, label, epochs= 100, verbose=1)"
      ],
      "execution_count": 4,
      "outputs": [
        {
          "output_type": "stream",
          "text": [
            "Epoch 1/100\n",
            "484/484 [==============================] - 7s 14ms/step - loss: 6.9157 - accuracy: 0.0217\n",
            "Epoch 2/100\n",
            "484/484 [==============================] - 7s 14ms/step - loss: 6.4945 - accuracy: 0.0263\n",
            "Epoch 3/100\n",
            "484/484 [==============================] - 7s 14ms/step - loss: 6.3783 - accuracy: 0.0321\n",
            "Epoch 4/100\n",
            "484/484 [==============================] - 6s 13ms/step - loss: 6.3171 - accuracy: 0.0332\n",
            "Epoch 5/100\n",
            "484/484 [==============================] - 6s 13ms/step - loss: 6.2668 - accuracy: 0.0347\n",
            "Epoch 6/100\n",
            "484/484 [==============================] - 6s 13ms/step - loss: 6.2427 - accuracy: 0.0366\n",
            "Epoch 7/100\n",
            "484/484 [==============================] - 6s 13ms/step - loss: 6.2136 - accuracy: 0.0366\n",
            "Epoch 8/100\n",
            "484/484 [==============================] - 6s 13ms/step - loss: 6.1631 - accuracy: 0.0376\n",
            "Epoch 9/100\n",
            "484/484 [==============================] - 6s 13ms/step - loss: 6.1276 - accuracy: 0.0380\n",
            "Epoch 10/100\n",
            "484/484 [==============================] - 6s 13ms/step - loss: 6.1086 - accuracy: 0.0409\n",
            "Epoch 11/100\n",
            "484/484 [==============================] - 6s 13ms/step - loss: 6.0579 - accuracy: 0.0434\n",
            "Epoch 12/100\n",
            "484/484 [==============================] - 6s 13ms/step - loss: 6.0112 - accuracy: 0.0438\n",
            "Epoch 13/100\n",
            "484/484 [==============================] - 6s 13ms/step - loss: 5.9778 - accuracy: 0.0464\n",
            "Epoch 14/100\n",
            "484/484 [==============================] - 6s 13ms/step - loss: 5.9304 - accuracy: 0.0488\n",
            "Epoch 15/100\n",
            "484/484 [==============================] - 6s 13ms/step - loss: 5.9089 - accuracy: 0.0488\n",
            "Epoch 16/100\n",
            "484/484 [==============================] - 6s 13ms/step - loss: 5.8848 - accuracy: 0.0492\n",
            "Epoch 17/100\n",
            "484/484 [==============================] - 6s 13ms/step - loss: 5.8442 - accuracy: 0.0523\n",
            "Epoch 18/100\n",
            "484/484 [==============================] - 6s 13ms/step - loss: 5.8202 - accuracy: 0.0528\n",
            "Epoch 19/100\n",
            "484/484 [==============================] - 6s 13ms/step - loss: 5.7775 - accuracy: 0.0540\n",
            "Epoch 20/100\n",
            "484/484 [==============================] - 7s 13ms/step - loss: 5.7540 - accuracy: 0.0547\n",
            "Epoch 21/100\n",
            "484/484 [==============================] - 6s 13ms/step - loss: 5.7277 - accuracy: 0.0555\n",
            "Epoch 22/100\n",
            "484/484 [==============================] - 6s 13ms/step - loss: 5.7142 - accuracy: 0.0558\n",
            "Epoch 23/100\n",
            "484/484 [==============================] - 7s 14ms/step - loss: 5.7005 - accuracy: 0.0579\n",
            "Epoch 24/100\n",
            "484/484 [==============================] - 7s 14ms/step - loss: 5.6567 - accuracy: 0.0576\n",
            "Epoch 25/100\n",
            "484/484 [==============================] - 7s 14ms/step - loss: 5.6416 - accuracy: 0.0574\n",
            "Epoch 26/100\n",
            "484/484 [==============================] - 7s 14ms/step - loss: 5.6509 - accuracy: 0.0609\n",
            "Epoch 27/100\n",
            "484/484 [==============================] - 7s 14ms/step - loss: 5.6388 - accuracy: 0.0601\n",
            "Epoch 28/100\n",
            "484/484 [==============================] - 7s 13ms/step - loss: 5.6299 - accuracy: 0.0592\n",
            "Epoch 29/100\n",
            "484/484 [==============================] - 6s 13ms/step - loss: 5.5983 - accuracy: 0.0588\n",
            "Epoch 30/100\n",
            "484/484 [==============================] - 7s 13ms/step - loss: 5.5896 - accuracy: 0.0607\n",
            "Epoch 31/100\n",
            "484/484 [==============================] - 6s 13ms/step - loss: 5.5768 - accuracy: 0.0609\n",
            "Epoch 32/100\n",
            "484/484 [==============================] - 6s 13ms/step - loss: 5.5722 - accuracy: 0.0598\n",
            "Epoch 33/100\n",
            "484/484 [==============================] - 6s 13ms/step - loss: 5.5487 - accuracy: 0.0614\n",
            "Epoch 34/100\n",
            "484/484 [==============================] - 6s 13ms/step - loss: 5.5400 - accuracy: 0.0656\n",
            "Epoch 35/100\n",
            "484/484 [==============================] - 6s 13ms/step - loss: 5.5272 - accuracy: 0.0640\n",
            "Epoch 36/100\n",
            "484/484 [==============================] - 6s 13ms/step - loss: 5.5206 - accuracy: 0.0642\n",
            "Epoch 37/100\n",
            "484/484 [==============================] - 6s 13ms/step - loss: 5.5052 - accuracy: 0.0662\n",
            "Epoch 38/100\n",
            "484/484 [==============================] - 6s 13ms/step - loss: 5.5031 - accuracy: 0.0641\n",
            "Epoch 39/100\n",
            "484/484 [==============================] - 6s 13ms/step - loss: 5.4935 - accuracy: 0.0633\n",
            "Epoch 40/100\n",
            "484/484 [==============================] - 6s 13ms/step - loss: 5.4859 - accuracy: 0.0639\n",
            "Epoch 41/100\n",
            "484/484 [==============================] - 6s 13ms/step - loss: 5.4680 - accuracy: 0.0658\n",
            "Epoch 42/100\n",
            "484/484 [==============================] - 6s 13ms/step - loss: 5.4747 - accuracy: 0.0665\n",
            "Epoch 43/100\n",
            "484/484 [==============================] - 6s 13ms/step - loss: 5.4506 - accuracy: 0.0655\n",
            "Epoch 44/100\n",
            "484/484 [==============================] - 6s 13ms/step - loss: 5.4528 - accuracy: 0.0656\n",
            "Epoch 45/100\n",
            "484/484 [==============================] - 6s 13ms/step - loss: 5.4593 - accuracy: 0.0673\n",
            "Epoch 46/100\n",
            "484/484 [==============================] - 6s 13ms/step - loss: 5.4413 - accuracy: 0.0673\n",
            "Epoch 47/100\n",
            "484/484 [==============================] - 6s 13ms/step - loss: 5.4304 - accuracy: 0.0681\n",
            "Epoch 48/100\n",
            "484/484 [==============================] - 6s 13ms/step - loss: 5.4271 - accuracy: 0.0676\n",
            "Epoch 49/100\n",
            "484/484 [==============================] - 6s 13ms/step - loss: 5.4148 - accuracy: 0.0673\n",
            "Epoch 50/100\n",
            "484/484 [==============================] - 6s 13ms/step - loss: 5.4119 - accuracy: 0.0690\n",
            "Epoch 51/100\n",
            "484/484 [==============================] - 6s 13ms/step - loss: 5.4063 - accuracy: 0.0678\n",
            "Epoch 52/100\n",
            "484/484 [==============================] - 6s 13ms/step - loss: 5.4064 - accuracy: 0.0711\n",
            "Epoch 53/100\n",
            "484/484 [==============================] - 6s 13ms/step - loss: 5.4015 - accuracy: 0.0683\n",
            "Epoch 54/100\n",
            "484/484 [==============================] - 7s 13ms/step - loss: 5.3944 - accuracy: 0.0692\n",
            "Epoch 55/100\n",
            "484/484 [==============================] - 6s 13ms/step - loss: 5.3970 - accuracy: 0.0697\n",
            "Epoch 56/100\n",
            "484/484 [==============================] - 6s 13ms/step - loss: 5.3932 - accuracy: 0.0713\n",
            "Epoch 57/100\n",
            "484/484 [==============================] - 6s 13ms/step - loss: 5.3871 - accuracy: 0.0715\n",
            "Epoch 58/100\n",
            "484/484 [==============================] - 6s 13ms/step - loss: 5.3884 - accuracy: 0.0720\n",
            "Epoch 59/100\n",
            "484/484 [==============================] - 6s 13ms/step - loss: 5.3928 - accuracy: 0.0719\n",
            "Epoch 60/100\n",
            "484/484 [==============================] - 6s 13ms/step - loss: 5.3623 - accuracy: 0.0715\n",
            "Epoch 61/100\n",
            "484/484 [==============================] - 6s 13ms/step - loss: 5.3694 - accuracy: 0.0706\n",
            "Epoch 62/100\n",
            "484/484 [==============================] - 6s 13ms/step - loss: 5.3679 - accuracy: 0.0706\n",
            "Epoch 63/100\n",
            "484/484 [==============================] - 6s 13ms/step - loss: 5.3807 - accuracy: 0.0691\n",
            "Epoch 64/100\n",
            "484/484 [==============================] - 6s 13ms/step - loss: 5.3695 - accuracy: 0.0710\n",
            "Epoch 65/100\n",
            "484/484 [==============================] - 7s 14ms/step - loss: 5.3670 - accuracy: 0.0705\n",
            "Epoch 66/100\n",
            "484/484 [==============================] - 7s 14ms/step - loss: 5.3448 - accuracy: 0.0698\n",
            "Epoch 67/100\n",
            "484/484 [==============================] - 7s 13ms/step - loss: 5.3572 - accuracy: 0.0695\n",
            "Epoch 68/100\n",
            "484/484 [==============================] - 6s 13ms/step - loss: 5.3548 - accuracy: 0.0723\n",
            "Epoch 69/100\n",
            "484/484 [==============================] - 6s 13ms/step - loss: 5.3390 - accuracy: 0.0704\n",
            "Epoch 70/100\n",
            "484/484 [==============================] - 6s 13ms/step - loss: 5.3467 - accuracy: 0.0728\n",
            "Epoch 71/100\n",
            "484/484 [==============================] - 6s 13ms/step - loss: 5.3765 - accuracy: 0.0728\n",
            "Epoch 72/100\n",
            "484/484 [==============================] - 6s 13ms/step - loss: 5.3695 - accuracy: 0.0709\n",
            "Epoch 73/100\n",
            "484/484 [==============================] - 6s 13ms/step - loss: 5.3559 - accuracy: 0.0709\n",
            "Epoch 74/100\n",
            "484/484 [==============================] - 6s 13ms/step - loss: 5.3565 - accuracy: 0.0706\n",
            "Epoch 75/100\n",
            "484/484 [==============================] - 6s 13ms/step - loss: 5.3511 - accuracy: 0.0693\n",
            "Epoch 76/100\n",
            "484/484 [==============================] - 7s 13ms/step - loss: 5.3524 - accuracy: 0.0717\n",
            "Epoch 77/100\n",
            "484/484 [==============================] - 6s 13ms/step - loss: 5.3496 - accuracy: 0.0711\n",
            "Epoch 78/100\n",
            "484/484 [==============================] - 6s 12ms/step - loss: 5.3691 - accuracy: 0.0693\n",
            "Epoch 79/100\n",
            "484/484 [==============================] - 6s 13ms/step - loss: 5.3320 - accuracy: 0.0719\n",
            "Epoch 80/100\n",
            "484/484 [==============================] - 6s 13ms/step - loss: 5.3583 - accuracy: 0.0713\n",
            "Epoch 81/100\n",
            "484/484 [==============================] - 6s 13ms/step - loss: 5.3521 - accuracy: 0.0709\n",
            "Epoch 82/100\n",
            "484/484 [==============================] - 6s 13ms/step - loss: 5.3647 - accuracy: 0.0715\n",
            "Epoch 83/100\n",
            "484/484 [==============================] - 6s 13ms/step - loss: 5.3734 - accuracy: 0.0724\n",
            "Epoch 84/100\n",
            "484/484 [==============================] - 6s 13ms/step - loss: 5.3680 - accuracy: 0.0684\n",
            "Epoch 85/100\n",
            "484/484 [==============================] - 6s 13ms/step - loss: 5.3663 - accuracy: 0.0707\n",
            "Epoch 86/100\n",
            "484/484 [==============================] - 6s 13ms/step - loss: 5.3805 - accuracy: 0.0689\n",
            "Epoch 87/100\n",
            "484/484 [==============================] - 6s 13ms/step - loss: 5.3718 - accuracy: 0.0689\n",
            "Epoch 88/100\n",
            "484/484 [==============================] - 6s 13ms/step - loss: 5.3643 - accuracy: 0.0711\n",
            "Epoch 89/100\n",
            "484/484 [==============================] - 6s 13ms/step - loss: 5.3673 - accuracy: 0.0708\n",
            "Epoch 90/100\n",
            "484/484 [==============================] - 6s 13ms/step - loss: 5.3354 - accuracy: 0.0709\n",
            "Epoch 91/100\n",
            "484/484 [==============================] - 6s 13ms/step - loss: 5.3426 - accuracy: 0.0717\n",
            "Epoch 92/100\n",
            "484/484 [==============================] - 6s 13ms/step - loss: 5.3522 - accuracy: 0.0706\n",
            "Epoch 93/100\n",
            "484/484 [==============================] - 6s 13ms/step - loss: 5.3800 - accuracy: 0.0702\n",
            "Epoch 94/100\n",
            "484/484 [==============================] - 6s 13ms/step - loss: 5.3855 - accuracy: 0.0722\n",
            "Epoch 95/100\n",
            "484/484 [==============================] - 6s 13ms/step - loss: 5.3813 - accuracy: 0.0727\n",
            "Epoch 96/100\n",
            "484/484 [==============================] - 6s 13ms/step - loss: 5.3582 - accuracy: 0.0685\n",
            "Epoch 97/100\n",
            "484/484 [==============================] - 6s 13ms/step - loss: 5.3722 - accuracy: 0.0726\n",
            "Epoch 98/100\n",
            "484/484 [==============================] - 6s 13ms/step - loss: 5.3525 - accuracy: 0.0705\n",
            "Epoch 99/100\n",
            "484/484 [==============================] - 6s 13ms/step - loss: 5.3580 - accuracy: 0.0728\n",
            "Epoch 100/100\n",
            "484/484 [==============================] - 6s 13ms/step - loss: 5.3907 - accuracy: 0.0720\n"
          ],
          "name": "stdout"
        }
      ]
    },
    {
      "cell_type": "code",
      "metadata": {
        "id": "HzNGfLNgA3wh",
        "outputId": "c0594c4a-acf3-4059-8e0e-c52c8f71fa64",
        "colab": {
          "base_uri": "https://localhost:8080/",
          "height": 545
        }
      },
      "source": [
        "import matplotlib.pyplot as plt\n",
        "acc = history.history['accuracy']\n",
        "loss = history.history['loss']\n",
        "\n",
        "epochs = range(len(acc))\n",
        "\n",
        "plt.plot(epochs, acc, 'b', label='Training accuracy')\n",
        "plt.title('Training accuracy')\n",
        "\n",
        "plt.figure()\n",
        "\n",
        "plt.plot(epochs, loss, 'b', label='Training Loss')\n",
        "plt.title('Training loss')\n",
        "plt.legend()\n",
        "\n",
        "plt.show()"
      ],
      "execution_count": 5,
      "outputs": [
        {
          "output_type": "display_data",
          "data": {
            "image/png": "[encoded data removed]",
            "text/plain": [
              "<Figure size 432x288 with 1 Axes>"
            ]
          },
          "metadata": {
            "tags": [],
            "needs_background": "light"
          }
        },
        {
          "output_type": "display_data",
          "data": {
            "image/png": "[encoded data removed]",
            "text/plain": [
              "<Figure size 432x288 with 1 Axes>"
            ]
          },
          "metadata": {
            "tags": [],
            "needs_background": "light"
          }
        }
      ]
    },
    {
      "cell_type": "code",
      "metadata": {
        "id": "Fe6rR2zwBNsy",
        "outputId": "dfeb88f7-c6da-48ec-a64c-4a5a052b656a",
        "colab": {
          "base_uri": "https://localhost:8080/"
        }
      },
      "source": [
        "seed_text = \"Help me Obi Wan Kenobi, you're my only hope\"\n",
        "next_words= 100\n",
        "\n",
        "for _ in range(next_words):\n",
        "  token_list= tokenizer.texts_to_sequences([seed_text])[0]\n",
        "  token_list= pad_sequences([token_list], maxlen= max_sequence_len-1, padding= 'pre')\n",
        "  predicted= model.predict_classes(token_list, verbose=0)\n",
        "  output_word= \"\"\n",
        "\n",
        "  for word, index in tokenizer.word_index.items():\n",
        "    if index==predicted:\n",
        "      output_word= word\n",
        "      break\n",
        "  seed_text += \" \" + output_word\n",
        "\n",
        "print(seed_text)\n",
        "print(len(seed_text))"
      ],
      "execution_count": 9,
      "outputs": [
        {
          "output_type": "stream",
          "text": [
            "Help me Obi Wan Kenobi, you're my only hope thousand in the world of ill minds to make the love and yet to be is not be i see the time to be is to be near be in the world of ill minds to be is be i see the world of ill minds to make the time to be is be thou art is i see the world ' to be is i see thee to be not be i see thee and all my love and all my love and that be is and all my love ' in the world of ill minds to make\n",
            "426\n"
          ],
          "name": "stdout"
        }
      ]
    }
  ]
}